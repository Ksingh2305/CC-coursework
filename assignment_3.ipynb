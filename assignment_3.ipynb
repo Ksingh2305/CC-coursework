{
  "nbformat": 4,
  "nbformat_minor": 0,
  "metadata": {
    "colab": {
      "provenance": [],
      "authorship_tag": "ABX9TyNpcPd7NPzvs7y5N4ES4JmS",
      "include_colab_link": true
    },
    "kernelspec": {
      "name": "python3",
      "display_name": "Python 3"
    },
    "language_info": {
      "name": "python"
    }
  },
  "cells": [
    {
      "cell_type": "markdown",
      "metadata": {
        "id": "view-in-github",
        "colab_type": "text"
      },
      "source": [
        "<a href=\"https://colab.research.google.com/github/Ksingh2305/CC-coursework/blob/main/assignment_3.ipynb\" target=\"_parent\"><img src=\"https://colab.research.google.com/assets/colab-badge.svg\" alt=\"Open In Colab\"/></a>"
      ]
    },
    {
      "cell_type": "markdown",
      "source": [
        "Create a dataset as follow in the table."
      ],
      "metadata": {
        "id": "FFzykEFxLBSZ"
      }
    },
    {
      "cell_type": "code",
      "execution_count": null,
      "metadata": {
        "colab": {
          "base_uri": "https://localhost:8080/"
        },
        "id": "OcDBgpC5K3NQ",
        "outputId": "180d0662-b66b-4964-e0c5-5db8e363a621"
      },
      "outputs": [
        {
          "output_type": "stream",
          "name": "stdout",
          "text": [
            "   Tid Refund Marital Status Taxable Income Cheat\n",
            "0    1    Yes         Single           125K    No\n",
            "1    2     No        Married           100K    No\n",
            "2    3     No         Single            70K    No\n",
            "3    4    Yes        Married           120K    No\n",
            "4    5     No       Divorced            95K   Yes\n",
            "5    6     No        Married            60K    No\n",
            "6    7    Yes       Divorced           220K   Yes\n",
            "7    8     No         Single            85K   Yes\n",
            "8    9     No        Married            75K    No\n",
            "9   10     No         Single            90K   Yes\n"
          ]
        }
      ],
      "source": [
        "import pandas as pd\n",
        "\n",
        "\n",
        "data = {\n",
        "    \"Tid\": [1, 2, 3, 4, 5, 6, 7, 8, 9, 10],\n",
        "    \"Refund\": [\"Yes\", \"No\", \"No\", \"Yes\", \"No\", \"No\", \"Yes\", \"No\", \"No\", \"No\"],\n",
        "    \"Marital Status\": [\"Single\", \"Married\", \"Single\", \"Married\", \"Divorced\",\n",
        "                       \"Married\", \"Divorced\", \"Single\", \"Married\", \"Single\"],\n",
        "    \"Taxable Income\": [\"125K\", \"100K\", \"70K\", \"120K\", \"95K\",\n",
        "                       \"60K\", \"220K\", \"85K\", \"75K\", \"90K\"],\n",
        "    \"Cheat\": [\"No\", \"No\", \"No\", \"No\", \"Yes\",\n",
        "              \"No\", \"Yes\", \"Yes\", \"No\", \"Yes\"]\n",
        "}\n",
        "\n",
        "\n",
        "df = pd.DataFrame(data)\n",
        "\n",
        "\n",
        "print(df)\n"
      ]
    },
    {
      "cell_type": "markdown",
      "source": [
        "From the above table that you have created, locate row 0, 4, 7 and 8 using DataFrame."
      ],
      "metadata": {
        "id": "XCUDcmZAMCRt"
      }
    },
    {
      "cell_type": "code",
      "source": [
        "import pandas as pd\n",
        "\n",
        "\n",
        "data = {\n",
        "    \"Tid\": [1, 2, 3, 4, 5, 6, 7, 8, 9, 10],\n",
        "    \"Refund\": [\"Yes\", \"No\", \"No\", \"Yes\", \"No\", \"No\", \"Yes\", \"No\", \"No\", \"No\"],\n",
        "    \"Marital Status\": [\"Single\", \"Married\", \"Single\", \"Married\", \"Divorced\",\n",
        "                       \"Married\", \"Divorced\", \"Single\", \"Married\", \"Single\"],\n",
        "    \"Taxable Income\": [\"125K\", \"100K\", \"70K\", \"120K\", \"95K\",\n",
        "                       \"60K\", \"220K\", \"85K\", \"75K\", \"90K\"],\n",
        "    \"Cheat\": [\"No\", \"No\", \"No\", \"No\", \"Yes\",\n",
        "              \"No\", \"Yes\", \"Yes\", \"No\", \"Yes\"]\n",
        "}\n",
        "\n",
        "\n",
        "df = pd.DataFrame(data)\n",
        "\n",
        "\n",
        "selected_rows = df.loc[[0, 4, 7, 8]]\n",
        "\n",
        "\n",
        "print(selected_rows)\n"
      ],
      "metadata": {
        "id": "tCW-e1_nMF_l"
      },
      "execution_count": null,
      "outputs": []
    },
    {
      "cell_type": "markdown",
      "source": [
        "Navigate the DataFrame and do the following task for the table created in question 1:\n",
        "1. Select row from index 3 to 7.\n",
        "2. Select row from index 4 to 8, and column 2 to 4.\n",
        "3. Select all rows with column index 1 to 3 (include index 3 during selection)."
      ],
      "metadata": {
        "id": "rcvlC5_gP7ge"
      }
    },
    {
      "cell_type": "code",
      "source": [
        "import pandas as pd\n",
        "\n",
        "\n",
        "data = {\n",
        "    \"Tid\": [1, 2, 3, 4, 5, 6, 7, 8, 9, 10],\n",
        "    \"Refund\": [\"Yes\", \"No\", \"No\", \"Yes\", \"No\", \"No\", \"Yes\", \"No\", \"No\", \"No\"],\n",
        "    \"Marital Status\": [\"Single\", \"Married\", \"Single\", \"Married\", \"Divorced\",\n",
        "                       \"Married\", \"Divorced\", \"Single\", \"Married\", \"Single\"],\n",
        "    \"Taxable Income\": [\"125K\", \"100K\", \"70K\", \"120K\", \"95K\",\n",
        "                       \"60K\", \"220K\", \"85K\", \"75K\", \"90K\"],\n",
        "    \"Cheat\": [\"No\", \"No\", \"No\", \"No\", \"Yes\",\n",
        "              \"No\", \"Yes\", \"Yes\", \"No\", \"Yes\"]\n",
        "}\n",
        "\n",
        "\n",
        "df = pd.DataFrame(data)\n",
        "\n",
        "\n",
        "rows_3_to_7 = df.iloc[3:8]\n",
        "print(\"Rows from index 3 to 7:\")\n",
        "print(rows_3_to_7)\n",
        "\n",
        "\n",
        "rows_4_to_8_cols_2_to_4 = df.iloc[4:9, 2:5]\n",
        "print(\"\\nRows from index 4 to 8 and columns 2 to 4:\")\n",
        "print(rows_4_to_8_cols_2_to_4)\n",
        "\n",
        "\n",
        "cols_1_to_3 = df.iloc[:, 1:4]\n",
        "print(\"\\nAll rows with column index 1 to 3:\")\n",
        "print(cols_1_to_3)\n"
      ],
      "metadata": {
        "colab": {
          "base_uri": "https://localhost:8080/"
        },
        "id": "4Y5PckyOP970",
        "outputId": "e7b720a7-4a2a-449f-e7b6-5c76eca81780"
      },
      "execution_count": null,
      "outputs": [
        {
          "output_type": "stream",
          "name": "stdout",
          "text": [
            "Rows from index 3 to 7:\n",
            "   Tid Refund Marital Status Taxable Income Cheat\n",
            "3    4    Yes        Married           120K    No\n",
            "4    5     No       Divorced            95K   Yes\n",
            "5    6     No        Married            60K    No\n",
            "6    7    Yes       Divorced           220K   Yes\n",
            "7    8     No         Single            85K   Yes\n",
            "\n",
            "Rows from index 4 to 8 and columns 2 to 4:\n",
            "  Marital Status Taxable Income Cheat\n",
            "4       Divorced            95K   Yes\n",
            "5        Married            60K    No\n",
            "6       Divorced           220K   Yes\n",
            "7         Single            85K   Yes\n",
            "8        Married            75K    No\n",
            "\n",
            "All rows with column index 1 to 3:\n",
            "  Refund Marital Status Taxable Income\n",
            "0    Yes         Single           125K\n",
            "1     No        Married           100K\n",
            "2     No         Single            70K\n",
            "3    Yes        Married           120K\n",
            "4     No       Divorced            95K\n",
            "5     No        Married            60K\n",
            "6    Yes       Divorced           220K\n",
            "7     No         Single            85K\n",
            "8     No        Married            75K\n",
            "9     No         Single            90K\n"
          ]
        }
      ]
    },
    {
      "cell_type": "markdown",
      "source": [
        "Read a csv file and display its first five rows."
      ],
      "metadata": {
        "id": "qCaoiRCQQs5Q"
      }
    },
    {
      "cell_type": "code",
      "source": [
        "import pandas as pd\n",
        "\n",
        "\n",
        "df = pd.read_csv(\"your_file.csv\")\n",
        "\n",
        "\n",
        "print(df.head())\n"
      ],
      "metadata": {
        "id": "m6p0OBG-Q9C9",
        "collapsed": true
      },
      "execution_count": null,
      "outputs": []
    },
    {
      "cell_type": "markdown",
      "source": [
        "From the csv file (uploaded in the Q.4) delete row 4, and delete column 3. Display the\n",
        "result.\n"
      ],
      "metadata": {
        "id": "Qik-4mA_nemt"
      }
    },
    {
      "cell_type": "code",
      "source": [
        "import pandas as pd\n",
        "\n",
        "df = pd.read_csv(\"file.csv\")\n",
        "\n",
        "df = df.drop(4)\n",
        "\n",
        "df = df.drop(df.columns[2], axis=1)\n",
        "\n",
        "print(df)\n",
        "\n",
        "df.to_csv(\"modified_file.csv\", index=False)\n"
      ],
      "metadata": {
        "id": "svxUDwinqxzu"
      },
      "execution_count": null,
      "outputs": []
    },
    {
      "cell_type": "markdown",
      "source": [
        "Create a sample dataset (employees.csv) containing information about employees in\n",
        "a company.\n",
        "Employee_ID Name Department Age Salary Years_of_Experience Joining_Date Gender Bonus Rating\n",
        "101 Alice HR 29 50000 4 2020-03-15 Female 5000 4.5\n",
        "102 Bob IT 34 70000 8 2017-07-19 Male 7000 4.0\n",
        "103 Charlie IT 41 65000 10 2013-06-01 Male 6000 3.8\n",
        "104 Diana Marketing 28 55000 3 2021-02-10 Female 4500 4.7\n",
        "105 Edward Sales 38 60000 12 2010-11-25 Male 5000 3.5\n",
        "WAP to determine the following using dataset in Q6:\n",
        "a) Shape (number of rows and columns) of the DataFrame.\n",
        "b) Summary of the DataFrame that includes the data types and non-null counts for\n",
        "each column.\n",
        "c) Generate descriptive statistics.\n",
        "d) Display the first 5 rows and last 3 rows of the dataset.\n",
        "e) Calculate the following statistics from the dataset:\n",
        "i. The average salary of employees.\n",
        "ii. The total bonus paid to all employees.\n",
        "iii. The youngest employee's age.\n",
        "iv. The highest performance rating.\n",
        "\n",
        "f) Sort the DataFrame by the Salary column in descending order.\n",
        "g) Add a new column that categorizes employees based on their performance rating:\n",
        "\n",
        "i. Excellent for ratings >= 4.5\n",
        "ii. Good for ratings >= 4.0 but < 4.5\n",
        "iii. Average for ratings < 4.0\n",
        "h) Identify missing values in the DataFrame.\n",
        "i) Rename the Employee_ID column to ID.\n",
        "j) Find all employees who:\n",
        "\n",
        "i. Have more than 5 years of experience.\n",
        "ii. Belong to the IT department.\n",
        "\n",
        "k) Modify the dataset by adding a new column, Tax, which deducts 10% of the\n",
        "Salary.\n",
        "l) Save the modified DataFrame (with added columns) to a new CSV file."
      ],
      "metadata": {
        "id": "exKNFKpkq8He"
      }
    },
    {
      "cell_type": "code",
      "source": [
        "import pandas as pd\n",
        "\n",
        "df = pd.read_csv(\"employees.csv\")\n",
        "\n",
        "print(\"Shape of the DataFrame:\", df.shape)\n",
        "\n",
        "print(\"\\nSummary of the DataFrame:\")\n",
        "print(df.info())\n",
        "\n",
        "print(\"\\nDescriptive Statistics:\")\n",
        "print(df.describe())\n",
        "\n",
        "print(\"\\nFirst 5 rows:\")\n",
        "print(df.head())\n",
        "\n",
        "print(\"\\nLast 3 rows:\")\n",
        "print(df.tail(3))\n",
        "\n",
        "print(\"\\nAverage Salary:\", df[\"Salary\"].mean())\n",
        "print(\"Total Bonus Paid:\", df[\"Bonus\"].sum())\n",
        "print(\"Youngest Employee Age:\", df[\"Age\"].min())\n",
        "print(\"Highest Performance Rating:\", df[\"Rating\"].max())\n",
        "\n",
        "df_sorted = df.sort_values(by=\"Salary\", ascending=False)\n",
        "print(\"\\nData sorted by Salary in descending order:\")\n",
        "print(df_sorted)\n",
        "\n",
        "def categorize_performance(rating):\n",
        "    if rating >= 4.5:\n",
        "        return \"Excellent\"\n",
        "    elif rating >= 4.0:\n",
        "        return \"Good\"\n",
        "    else:\n",
        "        return \"Average\"\n",
        "\n",
        "df[\"Performance_Category\"] = df[\"Rating\"].apply(categorize_performance)\n",
        "\n",
        "print(\"\\nMissing values in DataFrame:\\n\", df.isnull().sum())\n",
        "\n",
        "df.rename(columns={\"Employee_ID\": \"ID\"}, inplace=True)\n",
        "\n",
        "exp_5_years = df[df[\"Years_of_Experience\"] > 5]\n",
        "print(\"\\nEmployees with more than 5 years of experience:\")\n",
        "print(exp_5_years)\n",
        "\n",
        "it_department = df[df[\"Department\"] == \"IT\"]\n",
        "print(\"\\nEmployees in IT Department:\")\n",
        "print(it_department)\n",
        "\n",
        "df[\"Tax\"] = df[\"Salary\"] * 0.1\n",
        "\n",
        "df.to_csv(\"modified_employees.csv\", index=False)\n",
        "\n",
        "print(\"\\nModified dataset saved as modified_employees.csv\")\n"
      ],
      "metadata": {
        "id": "C3puRieErDOa"
      },
      "execution_count": null,
      "outputs": []
    }
  ]
}